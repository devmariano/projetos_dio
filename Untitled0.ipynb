{
  "nbformat": 4,
  "nbformat_minor": 0,
  "metadata": {
    "colab": {
      "provenance": [],
      "authorship_tag": "ABX9TyPz/AST7h25jbtSGMvY/GPX",
      "include_colab_link": true
    },
    "kernelspec": {
      "name": "python3",
      "display_name": "Python 3"
    },
    "language_info": {
      "name": "python"
    }
  },
  "cells": [
    {
      "cell_type": "markdown",
      "metadata": {
        "id": "view-in-github",
        "colab_type": "text"
      },
      "source": [
        "<a href=\"https://colab.research.google.com/github/devmariano/projetos_dio/blob/main/Untitled0.ipynb\" target=\"_parent\"><img src=\"https://colab.research.google.com/assets/colab-badge.svg\" alt=\"Open In Colab\"/></a>"
      ]
    },
    {
      "cell_type": "code",
      "execution_count": 18,
      "metadata": {
        "colab": {
          "base_uri": "https://localhost:8080/"
        },
        "collapsed": true,
        "id": "YWCHak6q9-XR",
        "outputId": "cd7b0601-2fd6-4ae5-bf03-e0fc9cf8306f"
      },
      "outputs": [
        {
          "output_type": "stream",
          "name": "stdout",
          "text": [
            "Requirement already satisfied: requests in /usr/local/lib/python3.10/dist-packages (2.32.3)\n",
            "Requirement already satisfied: beautifulsoup4 in /usr/local/lib/python3.10/dist-packages (4.12.3)\n",
            "Requirement already satisfied: openai in /usr/local/lib/python3.10/dist-packages (1.54.4)\n",
            "Requirement already satisfied: langchain-openai in /usr/local/lib/python3.10/dist-packages (0.2.9)\n",
            "Requirement already satisfied: langchain in /usr/local/lib/python3.10/dist-packages (0.3.7)\n",
            "Requirement already satisfied: charset-normalizer<4,>=2 in /usr/local/lib/python3.10/dist-packages (from requests) (3.4.0)\n",
            "Requirement already satisfied: idna<4,>=2.5 in /usr/local/lib/python3.10/dist-packages (from requests) (3.10)\n",
            "Requirement already satisfied: urllib3<3,>=1.21.1 in /usr/local/lib/python3.10/dist-packages (from requests) (2.2.3)\n",
            "Requirement already satisfied: certifi>=2017.4.17 in /usr/local/lib/python3.10/dist-packages (from requests) (2024.8.30)\n",
            "Requirement already satisfied: soupsieve>1.2 in /usr/local/lib/python3.10/dist-packages (from beautifulsoup4) (2.6)\n",
            "Requirement already satisfied: anyio<5,>=3.5.0 in /usr/local/lib/python3.10/dist-packages (from openai) (3.7.1)\n",
            "Requirement already satisfied: distro<2,>=1.7.0 in /usr/local/lib/python3.10/dist-packages (from openai) (1.9.0)\n",
            "Requirement already satisfied: httpx<1,>=0.23.0 in /usr/local/lib/python3.10/dist-packages (from openai) (0.27.2)\n",
            "Requirement already satisfied: jiter<1,>=0.4.0 in /usr/local/lib/python3.10/dist-packages (from openai) (0.7.1)\n",
            "Requirement already satisfied: pydantic<3,>=1.9.0 in /usr/local/lib/python3.10/dist-packages (from openai) (2.9.2)\n",
            "Requirement already satisfied: sniffio in /usr/local/lib/python3.10/dist-packages (from openai) (1.3.1)\n",
            "Requirement already satisfied: tqdm>4 in /usr/local/lib/python3.10/dist-packages (from openai) (4.66.6)\n",
            "Requirement already satisfied: typing-extensions<5,>=4.11 in /usr/local/lib/python3.10/dist-packages (from openai) (4.12.2)\n",
            "Requirement already satisfied: langchain-core<0.4.0,>=0.3.17 in /usr/local/lib/python3.10/dist-packages (from langchain-openai) (0.3.19)\n",
            "Requirement already satisfied: tiktoken<1,>=0.7 in /usr/local/lib/python3.10/dist-packages (from langchain-openai) (0.8.0)\n",
            "Requirement already satisfied: PyYAML>=5.3 in /usr/local/lib/python3.10/dist-packages (from langchain) (6.0.2)\n",
            "Requirement already satisfied: SQLAlchemy<3,>=1.4 in /usr/local/lib/python3.10/dist-packages (from langchain) (2.0.36)\n",
            "Requirement already satisfied: aiohttp<4.0.0,>=3.8.3 in /usr/local/lib/python3.10/dist-packages (from langchain) (3.11.2)\n",
            "Requirement already satisfied: async-timeout<5.0.0,>=4.0.0 in /usr/local/lib/python3.10/dist-packages (from langchain) (4.0.3)\n",
            "Requirement already satisfied: langchain-text-splitters<0.4.0,>=0.3.0 in /usr/local/lib/python3.10/dist-packages (from langchain) (0.3.2)\n",
            "Requirement already satisfied: langsmith<0.2.0,>=0.1.17 in /usr/local/lib/python3.10/dist-packages (from langchain) (0.1.143)\n",
            "Requirement already satisfied: numpy<2,>=1 in /usr/local/lib/python3.10/dist-packages (from langchain) (1.26.4)\n",
            "Requirement already satisfied: tenacity!=8.4.0,<10,>=8.1.0 in /usr/local/lib/python3.10/dist-packages (from langchain) (9.0.0)\n",
            "Requirement already satisfied: aiohappyeyeballs>=2.3.0 in /usr/local/lib/python3.10/dist-packages (from aiohttp<4.0.0,>=3.8.3->langchain) (2.4.3)\n",
            "Requirement already satisfied: aiosignal>=1.1.2 in /usr/local/lib/python3.10/dist-packages (from aiohttp<4.0.0,>=3.8.3->langchain) (1.3.1)\n",
            "Requirement already satisfied: attrs>=17.3.0 in /usr/local/lib/python3.10/dist-packages (from aiohttp<4.0.0,>=3.8.3->langchain) (24.2.0)\n",
            "Requirement already satisfied: frozenlist>=1.1.1 in /usr/local/lib/python3.10/dist-packages (from aiohttp<4.0.0,>=3.8.3->langchain) (1.5.0)\n",
            "Requirement already satisfied: multidict<7.0,>=4.5 in /usr/local/lib/python3.10/dist-packages (from aiohttp<4.0.0,>=3.8.3->langchain) (6.1.0)\n",
            "Requirement already satisfied: propcache>=0.2.0 in /usr/local/lib/python3.10/dist-packages (from aiohttp<4.0.0,>=3.8.3->langchain) (0.2.0)\n",
            "Requirement already satisfied: yarl<2.0,>=1.17.0 in /usr/local/lib/python3.10/dist-packages (from aiohttp<4.0.0,>=3.8.3->langchain) (1.17.2)\n",
            "Requirement already satisfied: exceptiongroup in /usr/local/lib/python3.10/dist-packages (from anyio<5,>=3.5.0->openai) (1.2.2)\n",
            "Requirement already satisfied: httpcore==1.* in /usr/local/lib/python3.10/dist-packages (from httpx<1,>=0.23.0->openai) (1.0.7)\n",
            "Requirement already satisfied: h11<0.15,>=0.13 in /usr/local/lib/python3.10/dist-packages (from httpcore==1.*->httpx<1,>=0.23.0->openai) (0.14.0)\n",
            "Requirement already satisfied: jsonpatch<2.0,>=1.33 in /usr/local/lib/python3.10/dist-packages (from langchain-core<0.4.0,>=0.3.17->langchain-openai) (1.33)\n",
            "Requirement already satisfied: packaging<25,>=23.2 in /usr/local/lib/python3.10/dist-packages (from langchain-core<0.4.0,>=0.3.17->langchain-openai) (24.2)\n",
            "Requirement already satisfied: orjson<4.0.0,>=3.9.14 in /usr/local/lib/python3.10/dist-packages (from langsmith<0.2.0,>=0.1.17->langchain) (3.10.11)\n",
            "Requirement already satisfied: requests-toolbelt<2.0.0,>=1.0.0 in /usr/local/lib/python3.10/dist-packages (from langsmith<0.2.0,>=0.1.17->langchain) (1.0.0)\n",
            "Requirement already satisfied: annotated-types>=0.6.0 in /usr/local/lib/python3.10/dist-packages (from pydantic<3,>=1.9.0->openai) (0.7.0)\n",
            "Requirement already satisfied: pydantic-core==2.23.4 in /usr/local/lib/python3.10/dist-packages (from pydantic<3,>=1.9.0->openai) (2.23.4)\n",
            "Requirement already satisfied: greenlet!=0.4.17 in /usr/local/lib/python3.10/dist-packages (from SQLAlchemy<3,>=1.4->langchain) (3.1.1)\n",
            "Requirement already satisfied: regex>=2022.1.18 in /usr/local/lib/python3.10/dist-packages (from tiktoken<1,>=0.7->langchain-openai) (2024.9.11)\n",
            "Requirement already satisfied: jsonpointer>=1.9 in /usr/local/lib/python3.10/dist-packages (from jsonpatch<2.0,>=1.33->langchain-core<0.4.0,>=0.3.17->langchain-openai) (3.0.0)\n"
          ]
        }
      ],
      "source": [
        "!pip install requests beautifulsoup4 openai langchain-openai langchain"
      ]
    },
    {
      "cell_type": "code",
      "source": [
        "import requests\n",
        "from bs4 import BeautifulSoup\n",
        "\n",
        "def extract_text_from_url(url):\n",
        "    response = requests.get(url)\n",
        "\n",
        "    if response.status_code == 200:\n",
        "     soup = BeautifulSoup(response.text, 'html.parser')\n",
        "     for script in soup([\"script\", \"style\"]):\n",
        "        script.decompose()\n",
        "        text = soup.get_text(separator= ' ')\n",
        "        lines = (line.strip() for line in text.splitlines())\n",
        "        parts = (phrase.strip() for line in lines for phrase in line.split(\"  \"))\n",
        "        text = '\\n'.join(line for line in lines if line)\n",
        "        return text\n",
        "    else:\n",
        "      print(f\"Failed to fetch URL: {response.status_code}\")\n",
        "      return None\n",
        "\n",
        "    text = soup.get_text()\n",
        "    return text\n",
        "\n",
        "extract_text_from_url('https://dev.to/jumpalottahigh/how-to-build-a-ryzen-3rd-gen-computer-49ig')"
      ],
      "metadata": {
        "colab": {
          "base_uri": "https://localhost:8080/",
          "height": 122
        },
        "id": "PXfVixCk-zs9",
        "outputId": "5167be2c-d2b9-4988-e8df-fc8125a14595"
      },
      "execution_count": 10,
      "outputs": [
        {
          "output_type": "execute_result",
          "data": {
            "text/plain": [
              "\"How to build a Ryzen 3rd gen computer - DEV Community\\nSkip to content\\nNavigation menu\\nSearch\\nPowered by\\nSearch\\nAlgolia\\nSearch\\nLog in\\nCreate account\\nDEV Community\\nClose\\nAdd reaction\\nLike\\nUnicorn\\nExploding Head\\nRaised Hands\\nFire\\nJump to Comments\\nSave\\nMore...\\nCopy link\\nCopy link\\nCopied to Clipboard\\nShare to X\\nShare to LinkedIn\\nShare to Facebook\\nShare to Mastodon\\nReport Abuse\\nGeorgi Yanev\\nPosted on  Dec 27, 2019\\n• Originally published at  blog.georgi-yanev.com  on  Dec 26, 2019\\nHow to build a Ryzen 3rd gen computer\\n# computer\\n# hardware\\n# learning\\n# beginners\\nEvery 4-5 years I build a new computer. It started 20 years ago (in 1999) when my dad and I ordered our custom-built configuration from a computer parts shop in Bulgaria.\\nThen, in 2006 I specced and ordered a newer PC, 4 years later in 2010 I got another machine - again specced by me, but built by the company I ordered it from.\\nFinally, in 2014, I ordered the parts only and built my computer, which I’m typing this post on. It’s a good machine and it certainly has a few more years in front of it, but for several reasons, it’s time to build a new computer.\\nAnd while my 2014 PC was an Intel-based system with an AMD graphics card, now we’re switching things around and are going to be building an AMD system, Ryzen 3rd gen based, with a GeForce RTX GPU.\\nI sourced all the parts from a local, Finnish shop in Helsinki. Black Friday deals helped get a discounted price on some items, but not all.\\nBecause I got a new monitor in the summer - a 1440p, 144 Hz one, I didn’t need to spend money on that. I also have a mechanical keyboard, decent Logitech mouse and a Corsair headset that I’ll be carrying over to the new PC. So let’s have a look at what we got in terms of components.\\n🔩 Components\\nCPU\\nAs most of the component decisions depend on what CPU you go with, let’s start with that. I’ve been very happy with the Intel i5 I’ve been running for the past 6 years. It’s been performing well for most of the work and gaming I’ve been doing with it. I’m also fortunate to say that while money was not a big limiting factor when pulling off this build, I did try to stay cost-efficient and had a rough budget of 1700 euros for the PC itself.\\nLast summer I started a YouTube channel and video editing and rendering have joined gaming and software development as tasks I’d like the computer to be excelling at.\\nCoupling that with a nice Black Friday deal on the  Ryzen 7 3800x 8 Core Processor  and the choice was made.\\nThis determined the motherboard, as we need to have an AM4 socket for our Ryzen processor. Here the choice was between a B450 board or a 5 series. If an older B450, you might have to update the BIOS to support a 3rd gen Ryzen processor. I decided to go the slightly pricier and easier route of grabbing an x570 motherboard -  MPG X570 Gaming Plus Motherboard .\\nThe other big wins here are the PCIe Gen 4.0 compatibility and the TWO M.2 SSD slots, which I will need based on my storage design.\\nFor a GPU I decided to go for the  GeForce RTX 2060 Super . It’s a good value for money in terms of performance while still not breaking the bank. Ray tracing and 8GB of RAM on it, what’s not to like.\\nTo power a GPU and a CPU like those I went with a  CX750M Corsair power supply . This is a solid overkill, but I’ve had a similar PSU on my previous system and no issues, so might as well.\\nAnd as you might have figured out already, based on my motherboard and power supply choices, I’m going for a “regular” ATX case -  Fractal Design Define C . The nice parts here are the cable management section on the backside of the case, the tempered glass side panel (as I’m planning to have some nice RGB fans), dust filters and is highly configurable.\\nFor memory, I grabbed 2 x 16GB  Kingston Hyper X Fury DDR4 . For storage I got 2 M.2 SSDs(a  250GB Kingston  and a  500 GB Samsung ) and one  3.5 inch Western Digital hard drive .\\nSo, let’s build a computer.\\n🔩 The Build\\nWe’ll start with unpacking the motherboard and placing it on its box. If you have an ESD bracelet (antistatic wrist strap or else) consider wearing it for the duration of the build. Otherwise, you could try grounding yourself by touching some metal like a heat pipe or a radiator for a second. Ideally, you’d like to minimize the risk of shocking any of your new components with static electricity.\\nThe first thing to install is the CPU. Lift the CPU socket retention arm. Then, carefully take the CPU out of the box and while holding it by its sides, place it carefully into the AM4 socket on the motherboard,  such that the small triangle notch on the CPU matches the same on the motherboard . It is crucial to get this right and there is ONLY ONE correct orientation.\\nThe CPU should fit nice and snug and if you’re sure you’ve done it right, proceed by pulling the retention arm back to lock it in place. Good job, you just installed your CPU!\\nNext, let’s add the CPU cooler on top. In my case, mine came with a pre-applied thermal paste that looked good. In your case, you might have to apply the thermal compound yourself straight on top of the CPU.  Do not do both though!  If the cooler already has thermal paste, just use that. Notice the two metal brackets on the sides - we are going to use those to hold the fan and lock it in place nice and sturdy. For additional instructions, consult your CPU’s or motherboard’s manual.\\nWe now have the CPU and the cooler installed. Way to go! The fan cable gets plugged into a slot on the motherboard usually labeled CPU fan, close to the CPU socket. In my case, it was just above it.\\nNext, let’s add our RAM sticks…\\n… and M.2 SSDs. A 250GB one for Windows and applications.\\nAnd another 500GB M.2 SSD for games and video editing projects.\\nHere’s how I’ve set up the RAM sticks and SSDs. Consult your motherboard manual which channels are optimal when inserting the sticks. For me, the best set up is as it’s shown in the picture below. Installing the M.2 SSDs is as simple as slotting them in and securing them down with a screw on the left side.\\nSo far, so good. Now, let’s move this party inside the case.\\nOpen the case and prep it by laying it on its side. I decided to quickly plug in the power supply unit, as it’s separate from the motherboard, but going to be required in the initial testing.\\nSecure the power supply unit with the provided screws and make sure to provide the required cables for the motherboard, CPU, and GPU for initial testing.\\nNow lay the case down flat and install the motherboard I/O shield. Add the 9 standoffs on top of which we’re gonna place the motherboard.\\nBy holding the CPU cooler slowly and carefully place the motherboard in place over the 9 standoffs and matching the I/O ports into the I/O shield we attached to the case.\\nSecure the motherboard to the standoffs with the provided screws.\\nPlugin the 24-pin motherboard connector from the power supply, as well as the 8-pin CPU connector. You can also install the graphics card in a PCIe slot and plug in another 8-pin into it.\\nThe fan cables go to headers labeled  fan  or  system fan . The case’s USB 3.0 header goes to its slot (consult your motherboard manual), the power button, hard drive activity, and LEDs go in a very specific way to the headers at the bottom right of the motherboard. Look it up in the manual, it’s not very tricky but good to get right!\\nWe are ready for the first test! Don’t close the side panels or assemble the system more than you need, in case something is wrong and we have to open it up again. Oh, it seems the stock CPU cooler has an RGB fan, neat!\\nIf all works out and the system posts successfully, you can close up all the panels. Install your operating system of choice via a USB drive and enjoy! Do remember to turn on the XMP profile in the bios to enable faster memory speeds.\\nMy build continued a bit further a week later when my  Corsair LL120 RGB fans  arrived.\\nThe set includes quite a few cables, controllers and if you are new to this (like I was) can easily throw you for a loop. Luckily there are many YouTube videos you can lookup on how exactly to connect the fans and their RGB controllers.\\nFor this setup, we first took off the stock fans that come with the case.\\nIn a nutshell, fan power goes to the fan headers on the motherboard, much like any other fan. The RGB headers connect into a controller which you can mount to the inner wall on the back of the case using the provided double-sided sticky tape. This works very well and keeps the mess out of sight.\\nYou can power the led and fan controllers with a SATA power connector so make sure you have at least one of those coming out of your PSU. In my case, I piggybacked off of the only SATA power cable I had for the hard drive.\\nI decided on 2 fans front and 1 back for a  positive  pressure airflow, where there should be slightly less dust hold up in the case, but the trade-off is the slightly slower exhaust of hot air. I can always change things around if needs be.\\nAnd that was the first PC build we did together with Anton! Yay! 🎉\\nTop comments  (0)\\nSubscribe\\nPersonal\\nTrusted User\\nCreate template\\nTemplates let you quickly answer FAQs or store snippets for re-use.\\nSubmit\\nPreview\\nDismiss\\nCode of Conduct\\n•\\nReport abuse\\nAre you sure you want to hide this comment? It will become hidden in your post, but will still be visible via the comment's  permalink .\\nHide child comments as well\\nConfirm\\nFor further actions, you may consider blocking this person and/or  reporting abuse\\nRead next\\n5 Best Reasons You Should Choose Microservices Architecture for Your Project\\nDevops Den -  Nov 2\\nNew Research Breaks Through AI Language Model Safeguards, Exposing Security Risks\\nMike Young -  Nov 1\\nNew AI Revolution: Designing a Global Multi-Agent Network with Large Language Models\\nMike Young -  Nov 1\\nHow to Use L298N Motor Driver with Raspberry Pi Pico W\\nShilleh -  Nov 1\\nGeorgi Yanev\\nFollow\\nI love JavaScript, React, the Web, #webperf and flying FPV drones, creator of www.fpvtips.com\\nLocation\\nHelsinki\\nEducation\\nBachelor of Engineering (B.E.), Computer Software Engineering\\nWork\\nSoftware Engineer at Sharper Shape\\nJoined\\nDec 26, 2018\\nMore from  Georgi Yanev\\nSolving problems using 3D printing\\n# 3dprinting\\n# project\\n# blender\\n# beginners\\nHow to become a semi decent software developer in 5 years\\n# beginners\\n# tips\\n# development\\n# career\\nThank you to our Diamond Sponsor  Neon  for supporting our community.\\nDEV Community  — A constructive and inclusive social network for software developers. With you every step of your journey.\\nHome\\nDEV++\\nPodcasts\\nVideos\\nTags\\nDEV Help\\nForem Shop\\nAdvertise on DEV\\nDEV Challenges\\nDEV Showcase\\nAbout\\nContact\\nFree Postgres Database\\nGuides\\nSoftware comparisons\\nCode of Conduct\\nPrivacy Policy\\nTerms of use\\nBuilt on  Forem  — the  open source  software that powers  DEV  and other inclusive communities.\\nMade with love and  Ruby on Rails . DEV Community  ©  2016 - 2024.\\nWe're a place where coders share, stay up-to-date and grow their careers.\\nLog in\\nCreate account\""
            ],
            "application/vnd.google.colaboratory.intrinsic+json": {
              "type": "string"
            }
          },
          "metadata": {},
          "execution_count": 10
        }
      ]
    },
    {
      "cell_type": "code",
      "source": [
        "from langchain_openai.chat_models.azure import AzureChatOpenAI\n",
        "\n",
        "client = AzureChatOpenAI(\n",
        "    azure_endpoint =\"inserir endopint0\",\n",
        "    api_version = \"inserir\",\n",
        "    deployment_name = \"inserir\",\n",
        "    openai_api_key = \"inserir\",\n",
        "    max_retries = 0\n",
        ")\n",
        "\n",
        "def translate_article(text, lang):\n",
        "  messages = [\n",
        "      (\"system\", \"Você atua como treadutor de textos\"),\n",
        "      (\"user\", f\"Traduza o {text} para o idioma {lang} e responda em markdown\"),\n",
        "  ]\n",
        "  response = client.invoke(messages)\n",
        "  print(response.content)\n",
        "  return response.content\n",
        "\n",
        "  translate_article(\"Hellor world, the deployment was suceeeded\", \"portugues\")"
      ],
      "metadata": {
        "colab": {
          "base_uri": "https://localhost:8080/",
          "height": 383
        },
        "id": "JclDLbUiCdog",
        "outputId": "68af8878-b29d-418c-8562-02e355c7d96b"
      },
      "execution_count": 15,
      "outputs": [
        {
          "output_type": "error",
          "ename": "ModuleNotFoundError",
          "evalue": "No module named 'langchain_openai'",
          "traceback": [
            "\u001b[0;31m---------------------------------------------------------------------------\u001b[0m",
            "\u001b[0;31mModuleNotFoundError\u001b[0m                       Traceback (most recent call last)",
            "\u001b[0;32m<ipython-input-15-95c752f1e0e4>\u001b[0m in \u001b[0;36m<cell line: 1>\u001b[0;34m()\u001b[0m\n\u001b[0;32m----> 1\u001b[0;31m \u001b[0;32mfrom\u001b[0m \u001b[0mlangchain_openai\u001b[0m\u001b[0;34m.\u001b[0m\u001b[0mchat_models\u001b[0m\u001b[0;34m.\u001b[0m\u001b[0mazure\u001b[0m \u001b[0;32mimport\u001b[0m \u001b[0mAzureChatOpenAI\u001b[0m\u001b[0;34m\u001b[0m\u001b[0;34m\u001b[0m\u001b[0m\n\u001b[0m\u001b[1;32m      2\u001b[0m \u001b[0;34m\u001b[0m\u001b[0m\n\u001b[1;32m      3\u001b[0m client = AzureChatOpenAI(\n\u001b[1;32m      4\u001b[0m     \u001b[0mazure_endpoint\u001b[0m \u001b[0;34m=\u001b[0m\u001b[0;34m\"inserir endopint0\"\u001b[0m\u001b[0;34m,\u001b[0m\u001b[0;34m\u001b[0m\u001b[0;34m\u001b[0m\u001b[0m\n\u001b[1;32m      5\u001b[0m     \u001b[0mapi_version\u001b[0m \u001b[0;34m=\u001b[0m \u001b[0;34m\"inserir\"\u001b[0m\u001b[0;34m,\u001b[0m\u001b[0;34m\u001b[0m\u001b[0;34m\u001b[0m\u001b[0m\n",
            "\u001b[0;31mModuleNotFoundError\u001b[0m: No module named 'langchain_openai'",
            "",
            "\u001b[0;31m---------------------------------------------------------------------------\u001b[0;32m\nNOTE: If your import is failing due to a missing package, you can\nmanually install dependencies using either !pip or !apt.\n\nTo view examples of installing some common dependencies, click the\n\"Open Examples\" button below.\n\u001b[0;31m---------------------------------------------------------------------------\u001b[0m\n"
          ],
          "errorDetails": {
            "actions": [
              {
                "action": "open_url",
                "actionText": "Open Examples",
                "url": "/notebooks/snippets/importing_libraries.ipynb"
              }
            ]
          }
        }
      ]
    },
    {
      "cell_type": "code",
      "source": [
        "url = 'https://dev.to/jumpalottahigh/how-to-build-a-ryzen-3rd-gen-computer-49ig'\n",
        "text = extract_text_from_url(url)\n",
        "translate_article(text, \"pt-br\")\n",
        "\n",
        "print(translate_article)"
      ],
      "metadata": {
        "colab": {
          "base_uri": "https://localhost:8080/",
          "height": 211
        },
        "id": "VxrmDe8vtgkK",
        "outputId": "18a4f376-3801-4aad-a3ac-301d9b5b0a79"
      },
      "execution_count": 16,
      "outputs": [
        {
          "output_type": "error",
          "ename": "NameError",
          "evalue": "name 'translate_article' is not defined",
          "traceback": [
            "\u001b[0;31m---------------------------------------------------------------------------\u001b[0m",
            "\u001b[0;31mNameError\u001b[0m                                 Traceback (most recent call last)",
            "\u001b[0;32m<ipython-input-16-dab1f9d7f937>\u001b[0m in \u001b[0;36m<cell line: 3>\u001b[0;34m()\u001b[0m\n\u001b[1;32m      1\u001b[0m \u001b[0murl\u001b[0m \u001b[0;34m=\u001b[0m \u001b[0;34m'https://dev.to/jumpalottahigh/how-to-build-a-ryzen-3rd-gen-computer-49ig'\u001b[0m\u001b[0;34m\u001b[0m\u001b[0;34m\u001b[0m\u001b[0m\n\u001b[1;32m      2\u001b[0m \u001b[0mtext\u001b[0m \u001b[0;34m=\u001b[0m \u001b[0mextract_text_from_url\u001b[0m\u001b[0;34m(\u001b[0m\u001b[0murl\u001b[0m\u001b[0;34m)\u001b[0m\u001b[0;34m\u001b[0m\u001b[0;34m\u001b[0m\u001b[0m\n\u001b[0;32m----> 3\u001b[0;31m \u001b[0mtranslate_article\u001b[0m\u001b[0;34m(\u001b[0m\u001b[0mtext\u001b[0m\u001b[0;34m,\u001b[0m \u001b[0;34m\"pt-br\"\u001b[0m\u001b[0;34m)\u001b[0m\u001b[0;34m\u001b[0m\u001b[0;34m\u001b[0m\u001b[0m\n\u001b[0m\u001b[1;32m      4\u001b[0m \u001b[0;34m\u001b[0m\u001b[0m\n\u001b[1;32m      5\u001b[0m \u001b[0mprint\u001b[0m\u001b[0;34m(\u001b[0m\u001b[0mtranslate_article\u001b[0m\u001b[0;34m)\u001b[0m\u001b[0;34m\u001b[0m\u001b[0;34m\u001b[0m\u001b[0m\n",
            "\u001b[0;31mNameError\u001b[0m: name 'translate_article' is not defined"
          ]
        }
      ]
    }
  ]
}